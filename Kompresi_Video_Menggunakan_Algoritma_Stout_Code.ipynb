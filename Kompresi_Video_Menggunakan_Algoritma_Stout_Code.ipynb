{
  "nbformat": 4,
  "nbformat_minor": 0,
  "metadata": {
    "colab": {
      "provenance": []
    },
    "kernelspec": {
      "name": "python3",
      "display_name": "Python 3"
    },
    "language_info": {
      "name": "python"
    }
  },
  "cells": [
    {
      "cell_type": "code",
      "execution_count": null,
      "metadata": {
        "id": "j_4opDaZ1NJ0"
      },
      "outputs": [],
      "source": [
        "import numpy as np\n",
        "\n",
        "# Fungsi untuk mengompresi video menggunakan algoritma STOUT\n",
        "def compress_video(frames, quality):\n",
        "    compressed_frames = []\n",
        "\n",
        "    for frame in frames:\n",
        "        compressed_frame = compress_frame(frame, quality)\n",
        "        compressed_frames.append(compressed_frame)\n",
        "\n",
        "    return compressed_frames\n",
        "\n",
        "# Fungsi untuk mengompresi frame menggunakan algoritma STOUT\n",
        "def compress_frame(frame, quality):\n",
        "    height, width, channels = frame.shape\n",
        "    ycbcr_frame = convert_to_ycbcr(frame)\n",
        "    compressed_y = compress_component(ycbcr_frame[:, :, 0], quality)\n",
        "    compressed_cb = compress_component(ycbcr_frame[:, :, 1], quality)\n",
        "    compressed_cr = compress_component(ycbcr_frame[:, :, 2], quality)\n",
        "    compressed_frame = np.zeros((height, width, channels), dtype=np.uint8)\n",
        "    compressed_frame[:, :, 0] = compressed_y\n",
        "    compressed_frame[:, :, 1] = compressed_cb\n",
        "    compressed_frame[:, :, 2] = compressed_cr\n",
        "\n",
        "    return compressed_frame\n",
        "\n",
        "# Fungsi untuk mengompresi komponen menggunakan algoritma STOUT\n",
        "def compress_component(component, quality):\n",
        "    quantization_matrix = get_quantization_matrix(quality)\n",
        "    quantized_component = np.round(component / quantization_matrix)\n",
        "\n",
        "    return quantized_component.astype(np.uint8)\n",
        "\n",
        "def convert_to_ycbcr(frame):\n",
        "    rgb_to_ycbcr_matrix = np.array([[0.299, 0.587, 0.114],\n",
        "                                    [-0.1687, -0.3313, 0.5],\n",
        "                                    [0.5, -0.4187, -0.0813]])\n",
        "    ycbcr_frame = np.dot(frame, rgb_to_ycbcr_matrix.T)\n",
        "\n",
        "    return ycbcr_frame\n",
        "\n",
        "def get_quantization_matrix(quality):\n",
        "    quality_table = np.array([[10, 16, 19, 22, 26, 27, 29, 34],\n",
        "                              [16, 16, 22, 24, 27, 29, 34, 37],\n",
        "                              [19, 22, 26, 27, 29, 34, 34, 38],\n",
        "                              [22, 22, 26, 27, 29, 34, 37, 40],\n",
        "                              [22, 26, 27, 29, 32, 35, 40, 48],\n",
        "                              [26, 27, 29, 32, 35, 40, 48, 58],\n",
        "                              [26, 27, 29, 34, 38, 46, 56, 69],\n",
        "                              [27, 29, 35, 38, 46, 56, 69, 83]])\n",
        "\n",
        "    quantization_matrix = quality_table * quality\n",
        "\n",
        "    return quantization_matrix"
      ]
    }
  ]
}